{
 "cells": [
  {
   "cell_type": "code",
   "execution_count": 2,
   "metadata": {},
   "outputs": [],
   "source": [
    "import pandas as pd\n",
    "import os\n",
    "from sklearn.preprocessing import LabelEncoder, MinMaxScaler, StandardScaler\n",
    "\n",
    "from sklearn.model_selection import train_test_split\n",
    "from sklearn.neighbors import KNeighborsClassifier\n",
    "from sklearn.metrics import accuracy_score, confusion_matrix, classification_report\n",
    "\n",
    "from sklearn.metrics import precision_recall_fscore_support, roc_curve, auc\n",
    "from imblearn.over_sampling import SMOTE\n",
    "import shap\n",
    "\n",
    "import matplotlib.pyplot as plt"
   ]
  },
  {
   "cell_type": "code",
   "execution_count": 8,
   "metadata": {},
   "outputs": [
    {
     "name": "stdout",
     "output_type": "stream",
     "text": [
      "(50801, 77)\n",
      "   delist_tab  month_count  _201901  _201902  _201903  _201904   _201905  \\\n",
      "0           0           42  26994.0   8180.0  16360.0  26994.0  39264.00   \n",
      "1           0            5      NaN      NaN      NaN      NaN       NaN   \n",
      "2           0           46    330.0    220.0    220.0    477.0    275.00   \n",
      "3           0           53   7636.5    820.0   2738.0   4243.0   7545.35   \n",
      "4           0            8    742.5    148.5      NaN    742.5       NaN   \n",
      "\n",
      "    _201911    _201912   _202007  ...  max_city  min_city  median_city  \\\n",
      "0   91152.0  1002672.0  273447.0  ...         6         1          3.0   \n",
      "1  182400.0    91200.0       NaN  ...         1         1          1.0   \n",
      "2     643.6      642.0     440.0  ...         4         1          2.0   \n",
      "3    4931.0     3085.0    1064.0  ...         6         1          3.0   \n",
      "4      54.0        NaN       NaN  ...         1         1          1.0   \n",
      "\n",
      "   city_now  vbp_flag  VBP_Batch  VBP_time  NRDL  NRDL_LIMTT  ENTRY_TIME  \n",
      "0       3.0       NaN        NaN       NaN   NaN         NaN         NaN  \n",
      "1       NaN       NaN        NaN       NaN   NaN         NaN         NaN  \n",
      "2       NaN       NaN        NaN       NaN   NaN         NaN         NaN  \n",
      "3       2.0       NaN        NaN       NaN   NaN         NaN         NaN  \n",
      "4       NaN       NaN        NaN       NaN   NaN         NaN         NaN  \n",
      "\n",
      "[5 rows x 77 columns]\n"
     ]
    }
   ],
   "source": [
    "# read raw data\n",
    "def data_loader(file_name):\n",
    "    current_dir = os.getcwd()\n",
    "    notebook_folder = os.path.dirname(current_dir)\n",
    "    project_dir = os.path.dirname(notebook_folder)\n",
    "    file_path = os.path.join(project_dir, 'raw_data', file_name)\n",
    "    return pd.read_csv(file_path)\n",
    "\n",
    "raw_data = data_loader('raw.csv')\n",
    "print(raw_data.shape)\n",
    "print(raw_data.head())"
   ]
  },
  {
   "cell_type": "code",
   "execution_count": null,
   "metadata": {},
   "outputs": [],
   "source": [
    "# preprocess data \n",
    "def preprocess_data(data, target_var_name, categorical_var_names, scaling_method):\n",
    "    # Separate target variable and input variables\n",
    "    y = data[[target_var_name]]\n",
    "    X = data.drop(columns=[target_var_name])\n",
    "\n",
    "    # Separate numerical and categorical variables\n",
    "    numerical_vars = X.columns.difference(categorical_var_names)\n",
    "    \n",
    "    X_numerical = X[numerical_vars]\n",
    "    X_categorical = X[categorical_var_names]\n",
    "\n",
    "    # Handle missing values for numerical variables\n",
    "    X_numerical.fillna(0, inplace=True)\n",
    "\n",
    "    # Scale numerical variables\n",
    "    if scaling_method == 'MinMaxScaler':\n",
    "        scaler = MinMaxScaler()\n",
    "        X_numerical = pd.DataFrame(scaler.fit_transform(X_numerical), columns=numerical_vars)\n",
    "\n",
    "    # Encode categorical variables\n",
    "    if not X_categorical.empty:\n",
    "        for col in categorical_var_names:\n",
    "            X_categorical[col] = LabelEncoder().fit_transform(X_categorical[col])\n",
    "\n",
    "        X_categorical = pd.get_dummies(X_categorical, columns=categorical_var_names, drop_first=True, dtype=int)\n",
    "\n",
    "    # Concatenate numerical and categorical variables\n",
    "    X = pd.concat([X_numerical, X_categorical], axis=1)\n",
    "    \n",
    "    return X, y\n"
   ]
  },
  {
   "cell_type": "code",
   "execution_count": null,
   "metadata": {},
   "outputs": [],
   "source": [
    "\n",
    "def save_processed_data(data, filename):\n",
    "    output_filepath = os.path.join('processed', filename + '.csv')\n",
    "    data.to_csv(output_filepath, index=False)\n",
    "\n",
    "\n",
    "def data_loader(file_name):\n",
    "    current_dir = os.getcwd()\n",
    "    notebook_folder = os.path.dirname(current_dir)\n",
    "    project_dir = os.path.dirname(notebook_folder)\n",
    "    file_path = os.path.join(project_dir, 'raw_data', file_name)\n",
    "    return pd.read_csv(file_path)"
   ]
  }
 ],
 "metadata": {
  "kernelspec": {
   "display_name": "gdg",
   "language": "python",
   "name": "python3"
  },
  "language_info": {
   "codemirror_mode": {
    "name": "ipython",
    "version": 3
   },
   "file_extension": ".py",
   "mimetype": "text/x-python",
   "name": "python",
   "nbconvert_exporter": "python",
   "pygments_lexer": "ipython3",
   "version": "3.10.7"
  },
  "orig_nbformat": 4
 },
 "nbformat": 4,
 "nbformat_minor": 2
}
